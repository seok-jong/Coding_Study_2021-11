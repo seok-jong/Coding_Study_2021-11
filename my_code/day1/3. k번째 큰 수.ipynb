{
 "cells": [
  {
   "cell_type": "code",
   "execution_count": 43,
   "id": "75c16194",
   "metadata": {},
   "outputs": [],
   "source": [
    "def q3():\n",
    "    n, k = list(map(int,input().split()))\n",
    "    ls = list(map(int,input().split()))\n",
    "    ls.sort(reverse = True)\n",
    "    print(ls)\n",
    "    s =[]\n",
    "    \n",
    "    for i in range(n-2):\n",
    "        for j in range(i+1,n-1):\n",
    "            for m in range(j+1,n):\n",
    "                tmp = ls[i]+ls[j]+ls[m]\n",
    "                \n",
    "                if tmp not in s:\n",
    "                    s.append(tmp)\n",
    "\n",
    "    return s[k-1]"
   ]
  },
  {
   "cell_type": "code",
   "execution_count": 45,
   "id": "7502b804",
   "metadata": {},
   "outputs": [
    {
     "name": "stdout",
     "output_type": "stream",
     "text": [
      "10 3\n",
      "13 15 34 23 45 65 33 11 26 42\n",
      "[65, 45, 42, 34, 33, 26, 23, 15, 13, 11]\n"
     ]
    },
    {
     "data": {
      "text/plain": [
       "143"
      ]
     },
     "execution_count": 45,
     "metadata": {},
     "output_type": "execute_result"
    }
   ],
   "source": [
    "q3()\n"
   ]
  }
 ],
 "metadata": {
  "kernelspec": {
   "display_name": "aiffel",
   "language": "python",
   "name": "aiffel"
  },
  "language_info": {
   "codemirror_mode": {
    "name": "ipython",
    "version": 3
   },
   "file_extension": ".py",
   "mimetype": "text/x-python",
   "name": "python",
   "nbconvert_exporter": "python",
   "pygments_lexer": "ipython3",
   "version": "3.7.11"
  }
 },
 "nbformat": 4,
 "nbformat_minor": 5
}
