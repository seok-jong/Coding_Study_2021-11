{
 "cells": [
  {
   "cell_type": "code",
   "execution_count": 1,
   "id": "2d8d7dd2",
   "metadata": {},
   "outputs": [],
   "source": [
    "\n",
    "\n",
    "def q1():\n",
    "    n, k = map(int,input().split())\n",
    "    \n",
    "    if n%k != 0:\n",
    "        return -1\n",
    "    \n",
    "    ls = []\n",
    "    for i in range(1,n+1):\n",
    "        if n%i == 0:\n",
    "            ls.append(i)\n",
    "    \n",
    "    return ls[k-1]\n"
   ]
  },
  {
   "cell_type": "code",
   "execution_count": 2,
   "id": "956b3b3c",
   "metadata": {},
   "outputs": [
    {
     "name": "stdout",
     "output_type": "stream",
     "text": [
      "6 3\n"
     ]
    },
    {
     "data": {
      "text/plain": [
       "3"
      ]
     },
     "execution_count": 2,
     "metadata": {},
     "output_type": "execute_result"
    }
   ],
   "source": [
    "q1()\n"
   ]
  },
  {
   "cell_type": "code",
   "execution_count": null,
   "id": "af5b4857",
   "metadata": {},
   "outputs": [],
   "source": []
  }
 ],
 "metadata": {
  "kernelspec": {
   "display_name": "aiffel",
   "language": "python",
   "name": "aiffel"
  },
  "language_info": {
   "codemirror_mode": {
    "name": "ipython",
    "version": 3
   },
   "file_extension": ".py",
   "mimetype": "text/x-python",
   "name": "python",
   "nbconvert_exporter": "python",
   "pygments_lexer": "ipython3",
   "version": "3.7.11"
  }
 },
 "nbformat": 4,
 "nbformat_minor": 5
}
