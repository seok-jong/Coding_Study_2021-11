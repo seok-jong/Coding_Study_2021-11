{
 "cells": [
  {
   "cell_type": "code",
   "execution_count": 23,
   "id": "7f8da08b",
   "metadata": {},
   "outputs": [],
   "source": [
    "import math\n",
    "\n",
    "def q4():\n",
    "    n = int(input())\n",
    "    ls = list(map(int,input().split()))\n",
    "    \n",
    "    m = {k:ls[k] for k in range(n)}\n",
    "    \n",
    "    avg = sum(ls)/n\n",
    "    avg = round(avg)\n",
    "    \n",
    "    for i in range(n):\n",
    "        m[i] = m[i]-avg\n",
    "        \n",
    "    min = 101\n",
    "    idx=[]\n",
    "    for i in range(n):\n",
    "        if abs(m[i]) <= min:\n",
    "            if abs(m[i]) < min:\n",
    "                idx =[i]\n",
    "                min = abs(m[i])\n",
    "            else:\n",
    "                idx.append(i)\n",
    "                min = abs(m[i])\n",
    "    print(idx)\n",
    "    idx.sort()\n",
    "    \n",
    "    min = -99\n",
    "    fin = []\n",
    "    for i in idx:\n",
    "        if m[i] >= min:\n",
    "            if m[i] > min:\n",
    "                fin = [i]\n",
    "                min = m[i]\n",
    "            else:\n",
    "                fin.append(i)\n",
    "    \n",
    "    number = fin[0]+1\n",
    "        \n",
    "        \n",
    "    \n",
    "    print(avg, number)\n",
    "    return None"
   ]
  },
  {
   "cell_type": "code",
   "execution_count": 24,
   "id": "cda24147",
   "metadata": {},
   "outputs": [
    {
     "name": "stdout",
     "output_type": "stream",
     "text": [
      "10\n",
      "45 73 66 87 92 67 75 79 75 80\n",
      "[1, 6, 8]\n",
      "74 7\n"
     ]
    }
   ],
   "source": [
    "q4()"
   ]
  },
  {
   "cell_type": "code",
   "execution_count": null,
   "id": "93c65fbc",
   "metadata": {},
   "outputs": [],
   "source": []
  }
 ],
 "metadata": {
  "kernelspec": {
   "display_name": "aiffel",
   "language": "python",
   "name": "aiffel"
  },
  "language_info": {
   "codemirror_mode": {
    "name": "ipython",
    "version": 3
   },
   "file_extension": ".py",
   "mimetype": "text/x-python",
   "name": "python",
   "nbconvert_exporter": "python",
   "pygments_lexer": "ipython3",
   "version": "3.7.11"
  }
 },
 "nbformat": 4,
 "nbformat_minor": 5
}
