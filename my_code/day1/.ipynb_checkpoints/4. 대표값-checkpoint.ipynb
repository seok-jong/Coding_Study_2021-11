{
 "cells": [
  {
   "cell_type": "code",
   "execution_count": 13,
   "id": "0864a5d8",
   "metadata": {},
   "outputs": [],
   "source": [
    "import math\n",
    "import numpy as np\n",
    "def q4():\n",
    "    n = int(input())\n",
    "    ls = list(map(int,input().split()))\n",
    "    \n",
    "    avg = sum(ls)/n\n",
    "    avg = round(avg)\n",
    "    \n",
    "    idx=np.array(ls)\n",
    "    idx = abs(idx-avg)\n",
    "    print(ls)\n",
    "    fin = np.argmin(idx)\n",
    "    \n",
    "    print(avg, fin)\n",
    "    return None"
   ]
  },
  {
   "cell_type": "code",
   "execution_count": 14,
   "id": "72dc0565",
   "metadata": {},
   "outputs": [
    {
     "name": "stdout",
     "output_type": "stream",
     "text": [
      "10 \n",
      "45 73 66 87 92 67 75 79 75 80\n",
      "[45, 73, 66, 87, 92, 67, 75, 79, 75, 80]\n",
      "74 1\n"
     ]
    }
   ],
   "source": [
    "q4()"
   ]
  },
  {
   "cell_type": "code",
   "execution_count": null,
   "id": "2e021cbb",
   "metadata": {},
   "outputs": [],
   "source": []
  }
 ],
 "metadata": {
  "kernelspec": {
   "display_name": "aiffel",
   "language": "python",
   "name": "aiffel"
  },
  "language_info": {
   "codemirror_mode": {
    "name": "ipython",
    "version": 3
   },
   "file_extension": ".py",
   "mimetype": "text/x-python",
   "name": "python",
   "nbconvert_exporter": "python",
   "pygments_lexer": "ipython3",
   "version": "3.7.11"
  }
 },
 "nbformat": 4,
 "nbformat_minor": 5
}
