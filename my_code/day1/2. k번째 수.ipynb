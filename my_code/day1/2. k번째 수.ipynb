{
 "cells": [
  {
   "cell_type": "code",
   "execution_count": 25,
   "id": "72797e98",
   "metadata": {},
   "outputs": [],
   "source": [
    "def q2():\n",
    "    T = int(input())\n",
    "    \n",
    "    test_case = []\n",
    "    \n",
    "    for i in range(T):\n",
    "        n, s, e, k = list(map(int,input().split()))\n",
    "        ls = list(map(int,input().split()))\n",
    "        \n",
    "        ls = ls[s-1:e]\n",
    "        ls.sort()\n",
    "        print(ls)\n",
    "        test_case.append(ls[k-1])\n",
    "        \n",
    "        \n",
    "    for i in range(T):\n",
    "        print('#',i+1,test_case[i])\n",
    "        \n",
    "\n",
    "    \n",
    "    return None"
   ]
  },
  {
   "cell_type": "code",
   "execution_count": 26,
   "id": "a1c861a2",
   "metadata": {},
   "outputs": [
    {
     "name": "stdout",
     "output_type": "stream",
     "text": [
      "2\n",
      "6 2 5 3\n",
      "5 8 7 3 8 9\n",
      "[3, 7, 8, 8]\n",
      "15 3 10 3\n",
      "4 15 8 16 6 6 17 3 10 11 18 7 14 7 15\n",
      "[3, 6, 6, 8, 10, 11, 16, 17]\n",
      "# 1 8\n",
      "# 2 6\n"
     ]
    }
   ],
   "source": [
    "q2()"
   ]
  },
  {
   "cell_type": "code",
   "execution_count": null,
   "id": "b2860fc2",
   "metadata": {},
   "outputs": [],
   "source": []
  }
 ],
 "metadata": {
  "kernelspec": {
   "display_name": "aiffel",
   "language": "python",
   "name": "aiffel"
  },
  "language_info": {
   "codemirror_mode": {
    "name": "ipython",
    "version": 3
   },
   "file_extension": ".py",
   "mimetype": "text/x-python",
   "name": "python",
   "nbconvert_exporter": "python",
   "pygments_lexer": "ipython3",
   "version": "3.7.11"
  }
 },
 "nbformat": 4,
 "nbformat_minor": 5
}
