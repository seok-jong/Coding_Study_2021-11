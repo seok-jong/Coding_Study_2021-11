{
 "cells": [
  {
   "cell_type": "code",
   "execution_count": 6,
   "id": "c136be12",
   "metadata": {},
   "outputs": [],
   "source": [
    "import numpy as np\n",
    "\n",
    "def q5():\n",
    "    n, m = list(map(int,input().split()))\n",
    "    \n",
    "    ls = [0]*(n+m)\n",
    "    \n",
    "    for i in range(1,n+1):\n",
    "        for j in range(1,m+1):\n",
    "            ls[i+j-1]+=1\n",
    "         \n",
    "    max_value = max(ls)\n",
    "    fin = []\n",
    "    for i,v in enumerate(ls):\n",
    "        if max_value == v:\n",
    "            fin.append(i+1)\n",
    "    \n",
    "    print(fin)\n",
    "    \n",
    "    return None"
   ]
  },
  {
   "cell_type": "code",
   "execution_count": 7,
   "id": "17a57dab",
   "metadata": {},
   "outputs": [
    {
     "name": "stdout",
     "output_type": "stream",
     "text": [
      "4 6\n",
      "[5, 6, 7]\n"
     ]
    }
   ],
   "source": [
    "q5()"
   ]
  },
  {
   "cell_type": "code",
   "execution_count": null,
   "id": "7ae7b022",
   "metadata": {},
   "outputs": [],
   "source": []
  }
 ],
 "metadata": {
  "kernelspec": {
   "display_name": "aiffel",
   "language": "python",
   "name": "aiffel"
  },
  "language_info": {
   "codemirror_mode": {
    "name": "ipython",
    "version": 3
   },
   "file_extension": ".py",
   "mimetype": "text/x-python",
   "name": "python",
   "nbconvert_exporter": "python",
   "pygments_lexer": "ipython3",
   "version": "3.7.11"
  }
 },
 "nbformat": 4,
 "nbformat_minor": 5
}
