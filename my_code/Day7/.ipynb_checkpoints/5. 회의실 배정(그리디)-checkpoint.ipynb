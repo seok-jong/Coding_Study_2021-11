{
 "cells": [
  {
   "cell_type": "code",
   "execution_count": 1,
   "id": "7199b086",
   "metadata": {},
   "outputs": [
    {
     "name": "stdout",
     "output_type": "stream",
     "text": [
      "5\n",
      "1 4\n",
      "2 3\n",
      "3 5\n",
      "4 6\n",
      "5 7\n"
     ]
    }
   ],
   "source": [
    "n = int(input())\n",
    "ls = []\n",
    "for _ in range(n):\n",
    "    ls.append(list(map(int,input().split())))\n",
    "    "
   ]
  },
  {
   "cell_type": "code",
   "execution_count": 2,
   "id": "32eb12b6",
   "metadata": {},
   "outputs": [
    {
     "data": {
      "text/plain": [
       "[[1, 4], [2, 3], [3, 5], [4, 6], [5, 7]]"
      ]
     },
     "execution_count": 2,
     "metadata": {},
     "output_type": "execute_result"
    }
   ],
   "source": [
    "ls"
   ]
  },
  {
   "cell_type": "code",
   "execution_count": 4,
   "id": "f91c035e",
   "metadata": {},
   "outputs": [],
   "source": [
    "ls = [[1, 4], [2, 3], [3, 5], [4, 6], [5, 7]]\n",
    "n = 5\n",
    "max = 0\n",
    "for i in range(n-1):\n",
    "    fir = ls[i]\n",
    "    cnt = 0\n",
    "    for j in range(i+1,n-1):\n",
    "        if ls[j][0] >= fir[0]:\n",
    "            fir = ls[j]\n",
    "            cnt +=1\n",
    "    if max < cnt:\n",
    "        max = cnt\n",
    "        \n"
   ]
  },
  {
   "cell_type": "code",
   "execution_count": null,
   "id": "ad910666",
   "metadata": {},
   "outputs": [],
   "source": []
  }
 ],
 "metadata": {
  "kernelspec": {
   "display_name": "aiffel",
   "language": "python",
   "name": "aiffel"
  },
  "language_info": {
   "codemirror_mode": {
    "name": "ipython",
    "version": 3
   },
   "file_extension": ".py",
   "mimetype": "text/x-python",
   "name": "python",
   "nbconvert_exporter": "python",
   "pygments_lexer": "ipython3",
   "version": "3.7.11"
  }
 },
 "nbformat": 4,
 "nbformat_minor": 5
}
