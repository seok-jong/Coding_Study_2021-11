{
 "cells": [
  {
   "cell_type": "code",
   "execution_count": 2,
   "id": "fd36a8db",
   "metadata": {},
   "outputs": [
    {
     "name": "stdout",
     "output_type": "stream",
     "text": [
      "5\n",
      "172 67\n",
      "183 65\n",
      "180 70\n",
      "170 72\n",
      "181 60\n"
     ]
    }
   ],
   "source": [
    "n = int(input())\n",
    "ls = []\n",
    "for _ in range(n):\n",
    "    ls.append(list(map(int,input().split())))\n",
    "    \n",
    "    \n"
   ]
  },
  {
   "cell_type": "code",
   "execution_count": 3,
   "id": "66bd0b19",
   "metadata": {},
   "outputs": [
    {
     "data": {
      "text/plain": [
       "[[172, 67], [183, 65], [180, 70], [170, 72], [181, 60]]"
      ]
     },
     "execution_count": 3,
     "metadata": {},
     "output_type": "execute_result"
    }
   ],
   "source": [
    "ls"
   ]
  },
  {
   "cell_type": "code",
   "execution_count": 8,
   "id": "46f45a85",
   "metadata": {},
   "outputs": [
    {
     "name": "stdout",
     "output_type": "stream",
     "text": [
      "3\n"
     ]
    }
   ],
   "source": [
    "ls = [[172, 67], [183, 65], [180, 70], [170, 72], [181, 60]]\n",
    "cnt = 0\n",
    "c_ls = ls.copy()\n",
    "for i in range(len(ls)):\n",
    "    for j in range(len(ls)):\n",
    "        if c_ls[j][0] > ls[i][0] and c_ls[j][1] > ls[i][1]:\n",
    "            cnt +=1 \n",
    "\n",
    "print(n-cnt)"
   ]
  },
  {
   "cell_type": "code",
   "execution_count": null,
   "id": "8402f0b2",
   "metadata": {},
   "outputs": [],
   "source": []
  }
 ],
 "metadata": {
  "kernelspec": {
   "display_name": "aiffel",
   "language": "python",
   "name": "aiffel"
  },
  "language_info": {
   "codemirror_mode": {
    "name": "ipython",
    "version": 3
   },
   "file_extension": ".py",
   "mimetype": "text/x-python",
   "name": "python",
   "nbconvert_exporter": "python",
   "pygments_lexer": "ipython3",
   "version": "3.7.11"
  }
 },
 "nbformat": 4,
 "nbformat_minor": 5
}
