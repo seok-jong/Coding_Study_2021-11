{
 "cells": [
  {
   "cell_type": "code",
   "execution_count": 16,
   "id": "cca2e398",
   "metadata": {},
   "outputs": [
    {
     "name": "stdout",
     "output_type": "stream",
     "text": [
      "10\n",
      "69 42 68 76 40 87 14 65 76 81\n",
      "50\n"
     ]
    }
   ],
   "source": [
    "L = int(input())\n",
    "ls = list(map(int,input().split()))\n",
    "m = int(input())\n",
    "\n"
   ]
  },
  {
   "cell_type": "code",
   "execution_count": 17,
   "id": "51f59c04",
   "metadata": {},
   "outputs": [
    {
     "name": "stdout",
     "output_type": "stream",
     "text": [
      "20\n"
     ]
    }
   ],
   "source": [
    "import numpy as np\n",
    "\n",
    "# L = 10\n",
    "# ls = [69, 42, 68, 76, 40, 87, 14, 65, 76, 81]\n",
    "# m = 50\n",
    "for _ in range(m):\n",
    "    h = np.argmax(ls)\n",
    "    l = np.argmin(ls)\n",
    "    \n",
    "    ls[h] = ls[h]-1\n",
    "    ls[l] = ls[l]+1\n",
    "print(max(ls)-min(ls))"
   ]
  },
  {
   "cell_type": "code",
   "execution_count": null,
   "id": "328cdc26",
   "metadata": {},
   "outputs": [],
   "source": []
  }
 ],
 "metadata": {
  "kernelspec": {
   "display_name": "aiffel",
   "language": "python",
   "name": "aiffel"
  },
  "language_info": {
   "codemirror_mode": {
    "name": "ipython",
    "version": 3
   },
   "file_extension": ".py",
   "mimetype": "text/x-python",
   "name": "python",
   "nbconvert_exporter": "python",
   "pygments_lexer": "ipython3",
   "version": "3.7.11"
  }
 },
 "nbformat": 4,
 "nbformat_minor": 5
}
