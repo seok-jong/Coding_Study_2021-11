{
 "cells": [
  {
   "cell_type": "code",
   "execution_count": 1,
   "id": "5d94f3c7",
   "metadata": {},
   "outputs": [
    {
     "name": "stdout",
     "output_type": "stream",
     "text": [
      "5\n",
      "2 4 5 1 3\n"
     ]
    }
   ],
   "source": [
    "n = int(input())\n",
    "ls = list(map(int,input().split()))\n",
    "\n"
   ]
  },
  {
   "cell_type": "code",
   "execution_count": 9,
   "id": "5b503789",
   "metadata": {},
   "outputs": [
    {
     "name": "stdout",
     "output_type": "stream",
     "text": [
      "3\n",
      "LRR\n"
     ]
    }
   ],
   "source": [
    "# n = 10\n",
    "# ls = [3,2,10,1,5,4,7,8,9,6]\n",
    "\n",
    "max = 0\n",
    "cnt = 0\n",
    "p = []\n",
    "while ls:\n",
    "    if len(ls) == 1:\n",
    "        break\n",
    "    if ls[0] < ls[-1]: \n",
    "        if ls[0] > max:\n",
    "            max=ls.pop(0)\n",
    "            cnt +=1\n",
    "            p.append('L')\n",
    "        elif ls[-1] > max:\n",
    "            max = ls.pop()\n",
    "            cnt +=1\n",
    "            p.append('R')\n",
    "        else:\n",
    "            break\n",
    "    elif ls[0] > ls[-1]:\n",
    "        if ls[-1] > max:\n",
    "            max = ls.pop()\n",
    "            cnt +=1\n",
    "            p.append('R')\n",
    "        elif ls[0] > max:\n",
    "            max = ls.pop(-1)\n",
    "            cnt+=1\n",
    "            p.append('L')\n",
    "        else:\n",
    "            break\n",
    "print(cnt)\n",
    "print(''.join(p))"
   ]
  },
  {
   "cell_type": "code",
   "execution_count": null,
   "id": "3a18cd10",
   "metadata": {},
   "outputs": [],
   "source": []
  }
 ],
 "metadata": {
  "kernelspec": {
   "display_name": "aiffel",
   "language": "python",
   "name": "aiffel"
  },
  "language_info": {
   "codemirror_mode": {
    "name": "ipython",
    "version": 3
   },
   "file_extension": ".py",
   "mimetype": "text/x-python",
   "name": "python",
   "nbconvert_exporter": "python",
   "pygments_lexer": "ipython3",
   "version": "3.7.11"
  }
 },
 "nbformat": 4,
 "nbformat_minor": 5
}
