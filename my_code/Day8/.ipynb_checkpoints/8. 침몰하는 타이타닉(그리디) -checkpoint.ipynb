{
 "cells": [
  {
   "cell_type": "code",
   "execution_count": 1,
   "id": "46a3b5f0",
   "metadata": {},
   "outputs": [
    {
     "name": "stdout",
     "output_type": "stream",
     "text": [
      "5 140\n",
      "90 50 70 100 60\n"
     ]
    }
   ],
   "source": [
    "n,m = map(int,input().split())\n",
    "ls = list(map(int,input().split()))\n"
   ]
  },
  {
   "cell_type": "code",
   "execution_count": 2,
   "id": "0e6a0f3a",
   "metadata": {},
   "outputs": [
    {
     "name": "stdout",
     "output_type": "stream",
     "text": [
      "3\n"
     ]
    }
   ],
   "source": [
    "ls.sort()\n",
    "cnt = 0\n",
    "while ls:\n",
    "    if len(ls) == 1:\n",
    "        cnt +=1\n",
    "        break\n",
    "    if ls[0]+ls[-1] > m:\n",
    "        ls.pop()\n",
    "        cnt +=1\n",
    "    else:\n",
    "        ls.pop()\n",
    "        ls.pop(-1)\n",
    "        cnt+=1\n",
    "print(cnt)"
   ]
  },
  {
   "cell_type": "code",
   "execution_count": null,
   "id": "bc04ae59",
   "metadata": {},
   "outputs": [],
   "source": []
  }
 ],
 "metadata": {
  "kernelspec": {
   "display_name": "aiffel",
   "language": "python",
   "name": "aiffel"
  },
  "language_info": {
   "codemirror_mode": {
    "name": "ipython",
    "version": 3
   },
   "file_extension": ".py",
   "mimetype": "text/x-python",
   "name": "python",
   "nbconvert_exporter": "python",
   "pygments_lexer": "ipython3",
   "version": "3.7.11"
  }
 },
 "nbformat": 4,
 "nbformat_minor": 5
}
