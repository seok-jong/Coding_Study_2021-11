{
 "cells": [
  {
   "cell_type": "code",
   "execution_count": 3,
   "id": "d9b70f9e",
   "metadata": {},
   "outputs": [],
   "source": [
    "import numpy as np\n",
    "\n",
    "def digit_sum(x):\n",
    "    fin = 0\n",
    "    for i in x:\n",
    "        fin+=int(i)\n",
    "    return fin\n",
    "\n",
    "def q6():\n",
    "    n = int(input())\n",
    "    ls = list(input().split())\n",
    "    \n",
    "    sum_ls = []\n",
    "    for i in range(n):\n",
    "        sum_ls.append(digit_sum(ls[i]))\n",
    "    \n",
    "    return int(ls[np.argmax(sum_ls)])"
   ]
  },
  {
   "cell_type": "code",
   "execution_count": 4,
   "id": "788f3d6c",
   "metadata": {},
   "outputs": [
    {
     "name": "stdout",
     "output_type": "stream",
     "text": [
      "3\n",
      "125 15232 97\n"
     ]
    },
    {
     "data": {
      "text/plain": [
       "97"
      ]
     },
     "execution_count": 4,
     "metadata": {},
     "output_type": "execute_result"
    }
   ],
   "source": [
    "q6()"
   ]
  },
  {
   "cell_type": "code",
   "execution_count": null,
   "id": "0fbec85f",
   "metadata": {},
   "outputs": [],
   "source": []
  }
 ],
 "metadata": {
  "kernelspec": {
   "display_name": "aiffel",
   "language": "python",
   "name": "aiffel"
  },
  "language_info": {
   "codemirror_mode": {
    "name": "ipython",
    "version": 3
   },
   "file_extension": ".py",
   "mimetype": "text/x-python",
   "name": "python",
   "nbconvert_exporter": "python",
   "pygments_lexer": "ipython3",
   "version": "3.7.11"
  }
 },
 "nbformat": 4,
 "nbformat_minor": 5
}
