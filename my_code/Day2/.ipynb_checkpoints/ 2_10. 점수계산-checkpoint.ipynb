{
 "cells": [
  {
   "cell_type": "code",
   "execution_count": 1,
   "id": "5a09d888",
   "metadata": {},
   "outputs": [],
   "source": [
    "def q10():\n",
    "    n = int(input())\n",
    "    ls = list(map(int,input().split()))\n",
    "    \n",
    "    score = 0\n",
    "    stack = 0\n",
    "    for i in range(n):\n",
    "        if ls[i] == 1:\n",
    "            score += stack+1\n",
    "            stack +=1\n",
    "        else:\n",
    "            stack = 0\n",
    "            \n",
    "    return score\n",
    "    "
   ]
  },
  {
   "cell_type": "code",
   "execution_count": 2,
   "id": "49f0fdc2",
   "metadata": {},
   "outputs": [
    {
     "name": "stdout",
     "output_type": "stream",
     "text": [
      "10\n",
      "1 0 1 1 1 0 0 1 1 0\n"
     ]
    },
    {
     "data": {
      "text/plain": [
       "10"
      ]
     },
     "execution_count": 2,
     "metadata": {},
     "output_type": "execute_result"
    }
   ],
   "source": [
    "q10()"
   ]
  },
  {
   "cell_type": "code",
   "execution_count": null,
   "id": "d6ea72bc",
   "metadata": {},
   "outputs": [],
   "source": []
  }
 ],
 "metadata": {
  "kernelspec": {
   "display_name": "aiffel",
   "language": "python",
   "name": "aiffel"
  },
  "language_info": {
   "codemirror_mode": {
    "name": "ipython",
    "version": 3
   },
   "file_extension": ".py",
   "mimetype": "text/x-python",
   "name": "python",
   "nbconvert_exporter": "python",
   "pygments_lexer": "ipython3",
   "version": "3.7.11"
  }
 },
 "nbformat": 4,
 "nbformat_minor": 5
}
