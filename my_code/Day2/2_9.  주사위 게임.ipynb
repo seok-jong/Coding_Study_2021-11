{
 "cells": [
  {
   "cell_type": "markdown",
   "id": "522ee70e",
   "metadata": {},
   "source": [
    "같은 눈이 몇개인지, 같은 눈이 몇인지 2가지를 동시에 알아야 함.\n"
   ]
  },
  {
   "cell_type": "code",
   "execution_count": 12,
   "id": "143c2083",
   "metadata": {},
   "outputs": [],
   "source": [
    "import numpy as np\n",
    "\n",
    "\n",
    "def price(ls):\n",
    "    if ls[0] == ls[1] and ls[1] == ls[2]:\n",
    "        cnt = 3\n",
    "        val = ls[0]\n",
    "    elif ls[0] == ls[1] or ls[0] == ls[2]:\n",
    "        cnt =2\n",
    "        val = ls[0]\n",
    "    elif ls[1] == ls[2]:\n",
    "        cnt = 2\n",
    "        val = ls[1]\n",
    "    else:\n",
    "        cnt = 1\n",
    "        ls.sort(reverse = True)\n",
    "        val = max(ls)\n",
    "        \n",
    "    if cnt == 3:\n",
    "        p = 10000 + val*1000\n",
    "    elif cnt ==2:\n",
    "        p = 1000 + val*100\n",
    "    else:\n",
    "        p = 100*val\n",
    "        \n",
    "    return p\n",
    "\n",
    "\n",
    "def q9():\n",
    "    n = int(input())\n",
    "    ls = []\n",
    "    for i in range(n):\n",
    "        ls.append(price(list(map(int,input().split()))))\n",
    "        \n",
    "    return max(ls)\n",
    "        \n",
    "    \n",
    "        \n",
    "    "
   ]
  },
  {
   "cell_type": "code",
   "execution_count": 13,
   "id": "63397e55",
   "metadata": {},
   "outputs": [
    {
     "name": "stdout",
     "output_type": "stream",
     "text": [
      "3\n",
      "3 3 6\n",
      "2 2 2\n",
      "6 2 5\n"
     ]
    },
    {
     "data": {
      "text/plain": [
       "12000"
      ]
     },
     "execution_count": 13,
     "metadata": {},
     "output_type": "execute_result"
    }
   ],
   "source": [
    "q9()"
   ]
  },
  {
   "cell_type": "code",
   "execution_count": null,
   "id": "a1c51219",
   "metadata": {},
   "outputs": [],
   "source": []
  }
 ],
 "metadata": {
  "kernelspec": {
   "display_name": "aiffel",
   "language": "python",
   "name": "aiffel"
  },
  "language_info": {
   "codemirror_mode": {
    "name": "ipython",
    "version": 3
   },
   "file_extension": ".py",
   "mimetype": "text/x-python",
   "name": "python",
   "nbconvert_exporter": "python",
   "pygments_lexer": "ipython3",
   "version": "3.7.11"
  }
 },
 "nbformat": 4,
 "nbformat_minor": 5
}
