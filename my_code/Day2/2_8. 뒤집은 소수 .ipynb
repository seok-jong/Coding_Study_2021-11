{
 "cells": [
  {
   "cell_type": "code",
   "execution_count": 13,
   "id": "5a7bb6f4",
   "metadata": {},
   "outputs": [],
   "source": [
    "def is_prime(x):\n",
    "    if x == 1:\n",
    "        return False\n",
    "    ls = []\n",
    "    for i in range(1,x+1):\n",
    "        if x%i == 0:\n",
    "            ls.append(i)\n",
    "    return len(ls) == 2\n",
    "\n",
    "def q8():\n",
    "    n = int(input())\n",
    "    ls = list(input().split())\n",
    "    \n",
    "    fin_ls = []\n",
    "    for i in ls:\n",
    "        tmp = int(i[::-1])\n",
    "        if is_prime(tmp):\n",
    "            fin_ls.append(tmp)\n",
    "            \n",
    "    return fin_ls\n",
    "    "
   ]
  },
  {
   "cell_type": "code",
   "execution_count": 14,
   "id": "4e5f6325",
   "metadata": {},
   "outputs": [
    {
     "name": "stdout",
     "output_type": "stream",
     "text": [
      "5\n",
      "32 55 62 3700 250\n"
     ]
    },
    {
     "data": {
      "text/plain": [
       "[23, 73]"
      ]
     },
     "execution_count": 14,
     "metadata": {},
     "output_type": "execute_result"
    }
   ],
   "source": [
    "q8()\n"
   ]
  },
  {
   "cell_type": "code",
   "execution_count": null,
   "id": "4828322c",
   "metadata": {},
   "outputs": [],
   "source": []
  }
 ],
 "metadata": {
  "kernelspec": {
   "display_name": "aiffel",
   "language": "python",
   "name": "aiffel"
  },
  "language_info": {
   "codemirror_mode": {
    "name": "ipython",
    "version": 3
   },
   "file_extension": ".py",
   "mimetype": "text/x-python",
   "name": "python",
   "nbconvert_exporter": "python",
   "pygments_lexer": "ipython3",
   "version": "3.7.11"
  }
 },
 "nbformat": 4,
 "nbformat_minor": 5
}
