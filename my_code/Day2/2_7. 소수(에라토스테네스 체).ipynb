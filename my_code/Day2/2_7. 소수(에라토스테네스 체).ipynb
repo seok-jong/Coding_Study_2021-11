{
 "cells": [
  {
   "cell_type": "code",
   "execution_count": 3,
   "id": "bb0dddf9",
   "metadata": {},
   "outputs": [],
   "source": [
    "def is_prime(x):\n",
    "    if x == 1:\n",
    "        return False\n",
    "    ls = []\n",
    "    for i in range(1,x+1):\n",
    "        if x%i == 0:\n",
    "            ls.append(i)\n",
    "    return len(ls)==2\n",
    "\n",
    "def q7():\n",
    "    n = int(input())\n",
    "    \n",
    "    cnt = 0\n",
    "    \n",
    "    for i in range(2,n+1):\n",
    "        if is_prime(i):\n",
    "            cnt+=1\n",
    "            \n",
    "    return cnt"
   ]
  },
  {
   "cell_type": "code",
   "execution_count": 4,
   "id": "4fcc613a",
   "metadata": {},
   "outputs": [
    {
     "name": "stdout",
     "output_type": "stream",
     "text": [
      "20\n"
     ]
    },
    {
     "data": {
      "text/plain": [
       "8"
      ]
     },
     "execution_count": 4,
     "metadata": {},
     "output_type": "execute_result"
    }
   ],
   "source": [
    "q7()\n"
   ]
  },
  {
   "cell_type": "code",
   "execution_count": null,
   "id": "24760739",
   "metadata": {},
   "outputs": [],
   "source": []
  }
 ],
 "metadata": {
  "kernelspec": {
   "display_name": "aiffel",
   "language": "python",
   "name": "aiffel"
  },
  "language_info": {
   "codemirror_mode": {
    "name": "ipython",
    "version": 3
   },
   "file_extension": ".py",
   "mimetype": "text/x-python",
   "name": "python",
   "nbconvert_exporter": "python",
   "pygments_lexer": "ipython3",
   "version": "3.7.11"
  }
 },
 "nbformat": 4,
 "nbformat_minor": 5
}
