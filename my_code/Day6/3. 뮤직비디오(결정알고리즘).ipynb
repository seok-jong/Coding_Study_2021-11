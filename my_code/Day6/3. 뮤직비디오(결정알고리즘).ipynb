{
 "cells": [
  {
   "cell_type": "markdown",
   "id": "a02ff307",
   "metadata": {},
   "source": [
    "# 이게 그리디가 아니라 이진탐색이라고?!?!?!?!?"
   ]
  },
  {
   "cell_type": "code",
   "execution_count": 1,
   "id": "3a1e57e0",
   "metadata": {},
   "outputs": [
    {
     "name": "stdout",
     "output_type": "stream",
     "text": [
      "9 3\n",
      "1 2 3 4 5 6 7 8 9\n",
      "21\n"
     ]
    }
   ],
   "source": [
    "n,m = map(int,input().split())\n",
    "ls = list(map(int,input().split()))\n",
    "\n",
    "\n",
    "min_vol = max(ls)\n",
    "while True:\n",
    "    \n",
    "    cnt = 0 # DVD의 갯수 \n",
    "    tmp = 0 # 용량 \n",
    "\n",
    "    for i in ls:\n",
    "        tmp+=i\n",
    "        if tmp > min_vol:\n",
    "            cnt +=1\n",
    "    if cnt == m:\n",
    "        print(min_vol)\n",
    "        break\n",
    "    else: \n",
    "        min_vol +=1\n",
    "        \n",
    "    "
   ]
  },
  {
   "cell_type": "code",
   "execution_count": 3,
   "id": "d880b159",
   "metadata": {},
   "outputs": [
    {
     "name": "stdout",
     "output_type": "stream",
     "text": [
      "9 3\n",
      "1 2 3 4 5 6 7 8 9\n"
     ]
    }
   ],
   "source": [
    "n,m = map(int,input().split())\n",
    "ls = list(map(int,input().split()))"
   ]
  },
  {
   "cell_type": "code",
   "execution_count": 10,
   "id": "67d657ae",
   "metadata": {},
   "outputs": [
    {
     "name": "stdout",
     "output_type": "stream",
     "text": [
      "21\n"
     ]
    }
   ],
   "source": [
    "n,m = 9,3\n",
    "ls = [1,2,3,4,5,6,7,8,9]\n",
    "min_v = max(ls)\n",
    "\n",
    "while True:\n",
    "    cnt =0\n",
    "    tmp = 0\n",
    "    for i in range(len(ls)):\n",
    "        tmp += ls[i]\n",
    "        if i != len(ls)-1:\n",
    "            if tmp + ls[i+1] > min_v:\n",
    "                cnt +=1\n",
    "        \n",
    "    \n",
    "    if cnt == m:\n",
    "        print(min_v)\n",
    "        break\n",
    "    min_v+=1"
   ]
  },
  {
   "cell_type": "code",
   "execution_count": null,
   "id": "f3f2803f",
   "metadata": {},
   "outputs": [],
   "source": [
    "import sys\n",
    "sys.stdin=open(\"input.txt\", \"r\")\n",
    "def Count(capacity):\n",
    "    cnt=1\n",
    "    sum=0\n",
    "    for x in Music:\n",
    "        if sum+x>capacity:\n",
    "            cnt+=1\n",
    "            sum=x\n",
    "        else:\n",
    "            sum+=x\n",
    "    return cnt\n",
    "\n",
    "n, m=map(int, input().split())\n",
    "Music=list(map(int, input().split()))\n",
    "maxx=max(Music)\n",
    "lt=1\n",
    "rt=sum(Music)\n",
    "res=0\n",
    "while lt<=rt:\n",
    "    mid=(lt+rt)//2\n",
    "    if mid>=maxx and Count(mid)<=m:\n",
    "        res=mid\n",
    "        rt=mid-1\n",
    "    else:\n",
    "        lt=mid+1\n",
    "print(res)\n"
   ]
  }
 ],
 "metadata": {
  "kernelspec": {
   "display_name": "aiffel",
   "language": "python",
   "name": "aiffel"
  },
  "language_info": {
   "codemirror_mode": {
    "name": "ipython",
    "version": 3
   },
   "file_extension": ".py",
   "mimetype": "text/x-python",
   "name": "python",
   "nbconvert_exporter": "python",
   "pygments_lexer": "ipython3",
   "version": "3.7.11"
  }
 },
 "nbformat": 4,
 "nbformat_minor": 5
}
