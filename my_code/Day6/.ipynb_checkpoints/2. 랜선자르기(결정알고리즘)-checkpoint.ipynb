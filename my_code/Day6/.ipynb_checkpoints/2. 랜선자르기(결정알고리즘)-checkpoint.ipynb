{
 "cells": [
  {
   "cell_type": "markdown",
   "id": "ab33d8d1",
   "metadata": {},
   "source": [
    "그리디 알고리즘 문제\n",
    "\n",
    "< 입력 예제 > \n",
    "4 11\n",
    "802 \n",
    "743\n",
    "457\n",
    "529\n",
    "\n",
    "< 출력 예제 >\n",
    "200\n",
    "\n",
    "-> 802에서 4개 \n",
    "\n",
    "> 풀이 아이디어\n",
    "> \n",
    "> 가장 짧은 선의 길이부터 1씩 줄여나가며 각 선으로부터 뽑아낼수 있는 선의 갯수를 측정하고 모든 선의 갯수가 k개가 되면 그 선의 길이를 반환한다. \n",
    ">\n"
   ]
  },
  {
   "cell_type": "code",
   "execution_count": 12,
   "id": "1e806cb2",
   "metadata": {},
   "outputs": [
    {
     "name": "stdout",
     "output_type": "stream",
     "text": [
      "4 11\n",
      "802\n",
      "743\n",
      "457\n",
      "539\n",
      "길이는  200\n"
     ]
    }
   ],
   "source": [
    "n, k = map(int,input().split())\n",
    "\n",
    "ls =[]\n",
    "for _ in range(n):\n",
    "    ls.append(int(input()))\n",
    "\n",
    "\n",
    "max_length = min(ls)\n",
    "for i in range(max_length,1,-1):\n",
    "        cnt = 0\n",
    "        for j in ls:\n",
    "            cnt += j//i\n",
    "        if cnt == k:\n",
    "            print('길이는 ',i)\n",
    "            break\n",
    "        "
   ]
  },
  {
   "cell_type": "code",
   "execution_count": null,
   "id": "e08cb2e5",
   "metadata": {},
   "outputs": [],
   "source": [
    "# 정답 코드\n",
    "\n",
    "\n",
    "import sys\n",
    "sys.stdin=open(\"input.txt\", \"r\")\n",
    "def Count(len):\n",
    "    cnt=0\n",
    "    for x in Line:\n",
    "        cnt+=(x//len)\n",
    "    return cnt\n",
    "\n",
    "k, n=map(int, input().split())\n",
    "Line=[]\n",
    "res=0\n",
    "largest=0\n",
    "for i in range(k):\n",
    "    tmp=int(input())\n",
    "    Line.append(tmp)\n",
    "    largest=max(largest, tmp)\n",
    "lt=1\n",
    "rt=largest\n",
    "while lt<=rt:\n",
    "    mid=(lt+rt)//2\n",
    "    if Count(mid)>=n:\n",
    "        res=mid\n",
    "        lt=mid+1\n",
    "    else:\n",
    "        rt=mid-1\n",
    "print(res)\n",
    "\n"
   ]
  }
 ],
 "metadata": {
  "kernelspec": {
   "display_name": "aiffel",
   "language": "python",
   "name": "aiffel"
  },
  "language_info": {
   "codemirror_mode": {
    "name": "ipython",
    "version": 3
   },
   "file_extension": ".py",
   "mimetype": "text/x-python",
   "name": "python",
   "nbconvert_exporter": "python",
   "pygments_lexer": "ipython3",
   "version": "3.7.11"
  }
 },
 "nbformat": 4,
 "nbformat_minor": 5
}
