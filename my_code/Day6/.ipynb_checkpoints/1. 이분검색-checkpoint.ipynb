{
 "cells": [
  {
   "cell_type": "code",
   "execution_count": 1,
   "id": "88e3b492",
   "metadata": {},
   "outputs": [
    {
     "name": "stdout",
     "output_type": "stream",
     "text": [
      "8 32\n",
      "23 87 65 12 57 32 99 81\n"
     ]
    }
   ],
   "source": [
    "n, m = list(map(int,input().split()))\n",
    "\n",
    "ls = list(map(int,input().split()))\n",
    "\n",
    "\n"
   ]
  },
  {
   "cell_type": "code",
   "execution_count": 2,
   "id": "13049e9c",
   "metadata": {},
   "outputs": [
    {
     "name": "stdout",
     "output_type": "stream",
     "text": [
      "3\n"
     ]
    }
   ],
   "source": [
    "ls.sort()\n",
    "\n",
    "def binary_search(lst,target,start,end):\n",
    "    while start <= end:\n",
    "        mid = (start+end)//2\n",
    "        if lst[mid] == target:\n",
    "            return mid \n",
    "        elif lst[mid] < target:\n",
    "            start = mid+1\n",
    "        elif lst[mid] > target:\n",
    "            end = mid-1\n",
    "    return None\n",
    "\n",
    "result = binary_search(ls,m,0,n-1)\n",
    "\n",
    "if result == None:\n",
    "    print('OMG')\n",
    "else:\n",
    "    print(result+1)"
   ]
  }
 ],
 "metadata": {
  "kernelspec": {
   "display_name": "aiffel",
   "language": "python",
   "name": "aiffel"
  },
  "language_info": {
   "codemirror_mode": {
    "name": "ipython",
    "version": 3
   },
   "file_extension": ".py",
   "mimetype": "text/x-python",
   "name": "python",
   "nbconvert_exporter": "python",
   "pygments_lexer": "ipython3",
   "version": "3.7.11"
  }
 },
 "nbformat": 4,
 "nbformat_minor": 5
}
