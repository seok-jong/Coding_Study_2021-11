{
 "cells": [
  {
   "cell_type": "code",
   "execution_count": 1,
   "id": "c20bf7f2",
   "metadata": {},
   "outputs": [
    {
     "name": "stdout",
     "output_type": "stream",
     "text": [
      "9 3\n",
      "1 2 3 4 5 6 7 8 9\n",
      "21\n"
     ]
    }
   ],
   "source": [
    "n,m = map(int,input().split())\n",
    "ls = list(map(int,input().split()))\n",
    "\n",
    "\n",
    "min_vol = max(ls)\n",
    "while True:\n",
    "    \n",
    "    cnt = 0 # DVD의 갯수 \n",
    "    tmp = 0 # 용량 \n",
    "\n",
    "    for i in ls:\n",
    "        tmp+=i\n",
    "        if tmp > min_vol:\n",
    "            cnt +=1\n",
    "    if cnt == m:\n",
    "        print(min_vol)\n",
    "        break\n",
    "    else: \n",
    "        min_vol +=1\n",
    "        \n",
    "    "
   ]
  },
  {
   "cell_type": "code",
   "execution_count": 3,
   "id": "104d79a3",
   "metadata": {},
   "outputs": [
    {
     "name": "stdout",
     "output_type": "stream",
     "text": [
      "9 3\n",
      "1 2 3 4 5 6 7 8 9\n"
     ]
    }
   ],
   "source": [
    "n,m = map(int,input().split())\n",
    "ls = list(map(int,input().split()))"
   ]
  },
  {
   "cell_type": "code",
   "execution_count": 10,
   "id": "cbea33da",
   "metadata": {},
   "outputs": [
    {
     "name": "stdout",
     "output_type": "stream",
     "text": [
      "21\n"
     ]
    }
   ],
   "source": [
    "n,m = 9,3\n",
    "ls = [1,2,3,4,5,6,7,8,9]\n",
    "min_v = max(ls)\n",
    "\n",
    "while True:\n",
    "    cnt =0\n",
    "    tmp = 0\n",
    "    for i in range(len(ls)):\n",
    "        tmp += ls[i]\n",
    "        if i != len(ls)-1:\n",
    "            if tmp + ls[i+1] > min_v:\n",
    "                cnt +=1\n",
    "        \n",
    "    \n",
    "    if cnt == m:\n",
    "        print(min_v)\n",
    "        break\n",
    "    min_v+=1"
   ]
  },
  {
   "cell_type": "code",
   "execution_count": null,
   "id": "e4035cc3",
   "metadata": {},
   "outputs": [],
   "source": []
  }
 ],
 "metadata": {
  "kernelspec": {
   "display_name": "aiffel",
   "language": "python",
   "name": "aiffel"
  },
  "language_info": {
   "codemirror_mode": {
    "name": "ipython",
    "version": 3
   },
   "file_extension": ".py",
   "mimetype": "text/x-python",
   "name": "python",
   "nbconvert_exporter": "python",
   "pygments_lexer": "ipython3",
   "version": "3.7.11"
  }
 },
 "nbformat": 4,
 "nbformat_minor": 5
}
