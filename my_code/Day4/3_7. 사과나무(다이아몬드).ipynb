{
 "cells": [
  {
   "cell_type": "code",
   "execution_count": 1,
   "id": "1b0ac619",
   "metadata": {},
   "outputs": [],
   "source": [
    "n = 5\n",
    "\n",
    "ls = [[10,13,10,12,15],[12,39,30,23,11],[11,25,50,53,15],[19,27,29,37,27],[19,13,30,13,19]]\n",
    "\n"
   ]
  },
  {
   "cell_type": "code",
   "execution_count": 21,
   "id": "1c0ac112",
   "metadata": {},
   "outputs": [
    {
     "name": "stdout",
     "output_type": "stream",
     "text": [
      "379\n"
     ]
    }
   ],
   "source": [
    "start = n//2\n",
    "stack = 0\n",
    "for i in range(start):\n",
    "    stack += sum(ls[i][start-i:start+i+1])\n",
    "    #print(sum(ls[i][start-i:start+i+1]))\n",
    "\n",
    "\n",
    "stack += sum(ls[start])\n",
    "\n",
    "for i in reversed(range(start)):\n",
    "    stack += sum(ls[-i-1][start-i:start+i+1])\n",
    "    #print(sum(ls[-i-1][start-i:start+i+1]))\n",
    "print(stack)"
   ]
  },
  {
   "cell_type": "code",
   "execution_count": null,
   "id": "0c9f169a",
   "metadata": {},
   "outputs": [],
   "source": []
  }
 ],
 "metadata": {
  "kernelspec": {
   "display_name": "aiffel",
   "language": "python",
   "name": "aiffel"
  },
  "language_info": {
   "codemirror_mode": {
    "name": "ipython",
    "version": 3
   },
   "file_extension": ".py",
   "mimetype": "text/x-python",
   "name": "python",
   "nbconvert_exporter": "python",
   "pygments_lexer": "ipython3",
   "version": "3.7.11"
  }
 },
 "nbformat": 4,
 "nbformat_minor": 5
}
