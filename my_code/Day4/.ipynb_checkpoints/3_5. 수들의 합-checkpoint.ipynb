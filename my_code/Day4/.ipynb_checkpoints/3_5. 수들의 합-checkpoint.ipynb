{
 "cells": [
  {
   "cell_type": "code",
   "execution_count": 4,
   "id": "a31c6126",
   "metadata": {},
   "outputs": [
    {
     "name": "stdout",
     "output_type": "stream",
     "text": [
      "8 3\n",
      "1 2 1 3 1 1 1 2\n",
      "5\n"
     ]
    }
   ],
   "source": [
    "n, m = map(int,input().split())\n",
    "ls = list(map(int,input().split()))\n",
    "\n",
    "cnt = 0\n",
    "\n",
    "for i in range(n):\n",
    "    tmp = 0\n",
    "    p = 0\n",
    "    \n",
    "    if i==n-1 and ls[i]==m:\n",
    "        cnt+=1\n",
    "        break\n",
    "    \n",
    "    while True: \n",
    "        \n",
    "        if i+p > n-1:\n",
    "            break\n",
    "        tmp += ls[i+p]\n",
    "        if tmp == m:\n",
    "            cnt+=1\n",
    "            break\n",
    "        elif tmp > m:\n",
    "            break\n",
    "        else:\n",
    "            p+=1\n",
    "            \n",
    "print(cnt)"
   ]
  },
  {
   "cell_type": "code",
   "execution_count": null,
   "id": "26f8d4fa",
   "metadata": {},
   "outputs": [],
   "source": []
  }
 ],
 "metadata": {
  "kernelspec": {
   "display_name": "aiffel",
   "language": "python",
   "name": "aiffel"
  },
  "language_info": {
   "codemirror_mode": {
    "name": "ipython",
    "version": 3
   },
   "file_extension": ".py",
   "mimetype": "text/x-python",
   "name": "python",
   "nbconvert_exporter": "python",
   "pygments_lexer": "ipython3",
   "version": "3.7.11"
  }
 },
 "nbformat": 4,
 "nbformat_minor": 5
}
