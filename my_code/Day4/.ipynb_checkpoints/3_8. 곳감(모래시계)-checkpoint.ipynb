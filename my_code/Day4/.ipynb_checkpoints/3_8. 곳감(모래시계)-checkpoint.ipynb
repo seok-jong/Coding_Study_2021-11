{
 "cells": [
  {
   "cell_type": "code",
   "execution_count": 26,
   "id": "d76b73c5",
   "metadata": {},
   "outputs": [],
   "source": [
    "n = 5\n",
    "\n",
    "ls = [[10,13,10,12,15],[12,39,30,23,11],[11,25,50,53,15],[19,27,29,37,27],[19,13,30,13,19]]\n",
    "\n"
   ]
  },
  {
   "cell_type": "code",
   "execution_count": 27,
   "id": "445faf03",
   "metadata": {},
   "outputs": [
    {
     "name": "stdout",
     "output_type": "stream",
     "text": [
      "3\n",
      "2 0 3\n",
      "5 1 2\n",
      "3 1 4\n"
     ]
    }
   ],
   "source": [
    "m = int(input())\n",
    "c_ls = []\n",
    "\n",
    "for _ in range(m):\n",
    "    c_ls.append(list(map(int,input().split())))\n"
   ]
  },
  {
   "cell_type": "code",
   "execution_count": 28,
   "id": "faa0bd08",
   "metadata": {
    "scrolled": true
   },
   "outputs": [
    {
     "data": {
      "text/plain": [
       "[[2, 0, 3], [5, 1, 2], [3, 1, 4]]"
      ]
     },
     "execution_count": 28,
     "metadata": {},
     "output_type": "execute_result"
    }
   ],
   "source": [
    "c_ls"
   ]
  },
  {
   "cell_type": "code",
   "execution_count": 29,
   "id": "ce1ef292",
   "metadata": {},
   "outputs": [],
   "source": [
    "def move_1(ls,direc): # 한칸 이동 함수 \n",
    "        if direc == 0: #왼쪽 이동 \n",
    "            tmp = ls.pop(0)\n",
    "            ls = ls+[tmp]\n",
    "        else: # 오른쪽 이동\n",
    "            tmp = ls.pop()\n",
    "            ls = [tmp] + ls\n",
    "        return ls \n",
    "        "
   ]
  },
  {
   "cell_type": "code",
   "execution_count": 30,
   "id": "39e58f74",
   "metadata": {},
   "outputs": [
    {
     "name": "stdout",
     "output_type": "stream",
     "text": [
      "[[10, 13, 10, 12, 15], [23, 11, 12, 39, 30], [25, 50, 53, 15, 11], [19, 27, 29, 37, 27], [13, 19, 19, 13, 30]]\n"
     ]
    }
   ],
   "source": [
    "for i in range(m):\n",
    "    row, direc, move = c_ls[i]\n",
    "    tmp = ls[row-1]\n",
    "    for _ in range(move):\n",
    "        tmp = move_1(tmp,direc)\n",
    "        ls[row-1] = tmp\n",
    "\n",
    "        "
   ]
  },
  {
   "cell_type": "code",
   "execution_count": 34,
   "id": "2f4a5e85",
   "metadata": {},
   "outputs": [
    {
     "name": "stdout",
     "output_type": "stream",
     "text": [
      "60\n",
      "62\n",
      "93\n",
      "94\n",
      "362\n"
     ]
    }
   ],
   "source": [
    "mid = n//2\n",
    "stack = 0\n",
    "for i in range(mid):\n",
    "    stack+=sum(ls[i][0+i:n-i])\n",
    "    print(sum(ls[i][0+i:n-i]))\n",
    "stack += ls[mid][mid]\n",
    "                 \n",
    "for i in reversed(range(mid)):\n",
    "    stack += sum(ls[-i-1][0+i:n-i])\n",
    "    print(sum(ls[-i-1][0+i:n-i]))\n",
    "    \n",
    "print(stack)"
   ]
  },
  {
   "cell_type": "code",
   "execution_count": null,
   "id": "17922adb",
   "metadata": {},
   "outputs": [],
   "source": []
  }
 ],
 "metadata": {
  "kernelspec": {
   "display_name": "aiffel",
   "language": "python",
   "name": "aiffel"
  },
  "language_info": {
   "codemirror_mode": {
    "name": "ipython",
    "version": 3
   },
   "file_extension": ".py",
   "mimetype": "text/x-python",
   "name": "python",
   "nbconvert_exporter": "python",
   "pygments_lexer": "ipython3",
   "version": "3.7.11"
  }
 },
 "nbformat": 4,
 "nbformat_minor": 5
}
