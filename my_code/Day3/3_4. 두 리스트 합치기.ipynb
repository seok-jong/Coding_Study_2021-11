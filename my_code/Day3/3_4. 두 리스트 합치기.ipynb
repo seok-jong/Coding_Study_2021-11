{
 "cells": [
  {
   "cell_type": "code",
   "execution_count": 1,
   "id": "d0c483d4",
   "metadata": {},
   "outputs": [],
   "source": [
    "def q4():\n",
    "    n1 = int(input())\n",
    "    n1_ls = list(map(int,input().split()))\n",
    "    n2 = int(input())\n",
    "    n2_ls = list(map(int,input().split()))\n",
    "    \n",
    "    fin_ls = []\n",
    "    while n1_ls and n2_ls:\n",
    "        if n1_ls[0] >= n2_ls[0]:\n",
    "            fin_ls.append(n2_ls.pop(0))\n",
    "        else:\n",
    "            fin_ls.append(n1_ls.pop(0))\n",
    "            \n",
    "    fin_ls = fin_ls+n1_ls+n2_ls\n",
    "    \n",
    "    return fin_ls"
   ]
  },
  {
   "cell_type": "code",
   "execution_count": 2,
   "id": "8bf78e35",
   "metadata": {},
   "outputs": [
    {
     "name": "stdout",
     "output_type": "stream",
     "text": [
      "3\n",
      "1 3 5\n",
      "5\n",
      "2 3 6 7 9\n"
     ]
    },
    {
     "data": {
      "text/plain": [
       "[1, 2, 3, 3, 5, 6, 7, 9]"
      ]
     },
     "execution_count": 2,
     "metadata": {},
     "output_type": "execute_result"
    }
   ],
   "source": [
    "q4()\n"
   ]
  },
  {
   "cell_type": "code",
   "execution_count": null,
   "id": "262244d8",
   "metadata": {},
   "outputs": [],
   "source": []
  }
 ],
 "metadata": {
  "kernelspec": {
   "display_name": "aiffel",
   "language": "python",
   "name": "aiffel"
  },
  "language_info": {
   "codemirror_mode": {
    "name": "ipython",
    "version": 3
   },
   "file_extension": ".py",
   "mimetype": "text/x-python",
   "name": "python",
   "nbconvert_exporter": "python",
   "pygments_lexer": "ipython3",
   "version": "3.7.11"
  }
 },
 "nbformat": 4,
 "nbformat_minor": 5
}
