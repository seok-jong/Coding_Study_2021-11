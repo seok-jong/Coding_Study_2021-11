{
 "cells": [
  {
   "cell_type": "code",
   "execution_count": 17,
   "id": "0f50b2d1",
   "metadata": {},
   "outputs": [],
   "source": [
    "def q2():\n",
    "    s = input()\n",
    "    \n",
    "    ls = []\n",
    "    for i in s:\n",
    "        if i.isdigit():\n",
    "            ls.append(i)\n",
    "    num = int(''.join(ls))\n",
    "    \n",
    "    cnt = 0\n",
    "    for i in range(1,num+1):\n",
    "        if num%i == 0:\n",
    "            cnt+=1\n",
    "    print(num)\n",
    "    print(cnt)\n",
    "            "
   ]
  },
  {
   "cell_type": "code",
   "execution_count": 18,
   "id": "93f0b6af",
   "metadata": {},
   "outputs": [
    {
     "name": "stdout",
     "output_type": "stream",
     "text": [
      "g0en2Ts8eSoft\n",
      "28\n",
      "6\n"
     ]
    }
   ],
   "source": [
    "q2()"
   ]
  },
  {
   "cell_type": "code",
   "execution_count": null,
   "id": "5b484e95",
   "metadata": {},
   "outputs": [],
   "source": []
  }
 ],
 "metadata": {
  "kernelspec": {
   "display_name": "aiffel",
   "language": "python",
   "name": "aiffel"
  },
  "language_info": {
   "codemirror_mode": {
    "name": "ipython",
    "version": 3
   },
   "file_extension": ".py",
   "mimetype": "text/x-python",
   "name": "python",
   "nbconvert_exporter": "python",
   "pygments_lexer": "ipython3",
   "version": "3.7.11"
  }
 },
 "nbformat": 4,
 "nbformat_minor": 5
}
