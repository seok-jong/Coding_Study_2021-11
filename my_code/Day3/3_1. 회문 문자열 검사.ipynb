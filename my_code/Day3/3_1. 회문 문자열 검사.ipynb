{
 "cells": [
  {
   "cell_type": "code",
   "execution_count": 14,
   "id": "55103b93",
   "metadata": {},
   "outputs": [],
   "source": [
    "def is_palindrome(x):\n",
    "    \n",
    "    for i in range(len(x)//2):\n",
    "        if x[i] == x[-i-1]:\n",
    "            continue\n",
    "        else:\n",
    "            return False\n",
    "    return True\n",
    "\n",
    "def q1():\n",
    "    n = int(input())\n",
    "    ls =[]\n",
    "    for _ in range(n):\n",
    "        ls.append(input().lower())\n",
    "    \n",
    "    f_ls = []\n",
    "    for i in ls:\n",
    "        f_ls.append(is_palindrome(i))\n",
    "    \n",
    "    for i,b in enumerate(f_ls):\n",
    "        if b == True:\n",
    "            print(f'#{i+1} YES')\n",
    "        else:\n",
    "            print(f'#{i+1} NO')\n",
    "    \n",
    "    return f_ls"
   ]
  },
  {
   "cell_type": "code",
   "execution_count": 16,
   "id": "f8cd2efd",
   "metadata": {
    "scrolled": true
   },
   "outputs": [
    {
     "name": "stdout",
     "output_type": "stream",
     "text": [
      "5\n",
      "level\n",
      "moon\n",
      "abcba\n",
      "soon\n",
      "gooG\n",
      "#1 YES\n",
      "#2 NO\n",
      "#3 YES\n",
      "#4 NO\n",
      "#5 YES\n"
     ]
    },
    {
     "data": {
      "text/plain": [
       "[True, False, True, False, True]"
      ]
     },
     "execution_count": 16,
     "metadata": {},
     "output_type": "execute_result"
    }
   ],
   "source": [
    "q1()"
   ]
  },
  {
   "cell_type": "code",
   "execution_count": null,
   "id": "8d337668",
   "metadata": {},
   "outputs": [],
   "source": [
    " str == str[::-1]"
   ]
  }
 ],
 "metadata": {
  "kernelspec": {
   "display_name": "aiffel",
   "language": "python",
   "name": "aiffel"
  },
  "language_info": {
   "codemirror_mode": {
    "name": "ipython",
    "version": 3
   },
   "file_extension": ".py",
   "mimetype": "text/x-python",
   "name": "python",
   "nbconvert_exporter": "python",
   "pygments_lexer": "ipython3",
   "version": "3.7.11"
  }
 },
 "nbformat": 4,
 "nbformat_minor": 5
}
