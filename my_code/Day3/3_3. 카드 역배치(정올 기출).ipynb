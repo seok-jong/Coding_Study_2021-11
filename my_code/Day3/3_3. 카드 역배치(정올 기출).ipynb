{
 "cells": [
  {
   "cell_type": "code",
   "execution_count": 30,
   "id": "0ca544fd",
   "metadata": {},
   "outputs": [],
   "source": [
    "def reverse(card, a, b):\n",
    "    if a == 1:\n",
    "        a = 2\n",
    "    card[a-1:b] = card[b-1:a-2:-1]\n",
    "    return card\n",
    "\n",
    "def q3():\n",
    "    card = [i for i in range(1,21)]\n",
    "    \n",
    "    answer = [[5,10],[9,13],[1,2],[3,4],[5,6],[1,2],[3,4],[5,6],[1,20],[1,20]]\n",
    "    \n",
    "    for i in range(10):\n",
    "        #a, b = list(map(int,input().split()))\n",
    "        a,b = answer[i]\n",
    "        card = reverse(card,a,b)\n",
    "        \n",
    "    return card\n",
    "    "
   ]
  },
  {
   "cell_type": "code",
   "execution_count": 31,
   "id": "f4e8b4ec",
   "metadata": {},
   "outputs": [
    {
     "data": {
      "text/plain": [
       "[1, 2, 3, 4, 10, 9, 8, 7, 13, 12, 11, 5, 6, 14, 15, 16, 17, 18, 19, 20]"
      ]
     },
     "execution_count": 31,
     "metadata": {},
     "output_type": "execute_result"
    }
   ],
   "source": [
    "q3()\n"
   ]
  }
 ],
 "metadata": {
  "kernelspec": {
   "display_name": "aiffel",
   "language": "python",
   "name": "aiffel"
  },
  "language_info": {
   "codemirror_mode": {
    "name": "ipython",
    "version": 3
   },
   "file_extension": ".py",
   "mimetype": "text/x-python",
   "name": "python",
   "nbconvert_exporter": "python",
   "pygments_lexer": "ipython3",
   "version": "3.7.11"
  }
 },
 "nbformat": 4,
 "nbformat_minor": 5
}
